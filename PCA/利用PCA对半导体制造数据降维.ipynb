{
 "cells": [
  {
   "cell_type": "markdown",
   "metadata": {},
   "source": [
    "## scikit-learn中PCA的使用方法\n",
    "函数原型及参数说明\n",
    "```python\n",
    "sklearn.decomposition.PCA(n_components=None, copy=True, whiten=False)  \n",
    "```\n",
    "### 参数说明：\n",
    "\n",
    "#### n_components:  \n",
    "意义：PCA算法中所要保留的主成分个数n，也即保留下来的特征个数n\n",
    "类型：int 或者 string，缺省时默认为None，所有成分被保留。\n",
    "          赋值为int，比如n_components=1，将把原始数据降到一个维度。\n",
    "          赋值为string，比如n_components='mle'，将自动选取特征个数n，使得满足所要求的方差百分比。\n",
    "#### copy:\n",
    "类型：bool，True或者False，缺省时默认为True。\n",
    "意义：表示是否在运行算法时，将原始训练数据复制一份。若为True，则运行PCA算法后，原始训练数据的值不会有任何改变，因为是在原始数据的副本上进行运算；若为False，则运行PCA算法后，原始训练数据的值会改，因为是在原始数据上进行降维计算。\n",
    "#### whiten:\n",
    "类型：bool，缺省时默认为False\n",
    "意义：白化，使得每个特征具有相同的方差。关于“白化”，可参考：Ufldl教程\n",
    "\n",
    "\n",
    "2、PCA对象的属性\n",
    "\n",
    "components_ ：返回具有最大方差的成分\n",
    "explained_variance_ratio_：返回 所保留的n个成分各自的方差百分比。\n",
    "n_components_：返回所保留的成分个数n。\n",
    "mean_：\n",
    "noise_variance_：\n",
    "\n",
    "\n",
    "\n",
    "3、PCA对象的方法\n",
    "#### fit(X,y=None)\n",
    "fit()可以说是scikit-learn中通用的方法，每个需要训练的算法都会有fit()方法，它其实就是算法中的“训练”这一步骤。因为PCA是无监督学习算法，此处y自然等于None。\n",
    "\n",
    "fit(X)，表示用数据X来训练PCA模型。\n",
    "\n",
    "函数返回值：调用fit方法的对象本身。比如pca.fit(X)，表示用X对pca这个对象进行训练。\n",
    "\n",
    "#### fit_transform(X)\n",
    "用X来训练PCA模型，同时返回降维后的数据。\n",
    "newX=pca.fit_transform(X)，newX就是降维后的数据。\n",
    "\n",
    "#### inverse_transform()\n",
    "将降维后的数据转换成原始数据，X=pca.inverse_transform(newX)\n",
    "\n",
    "#### transform(X)\n",
    "将数据X转换成降维后的数据。当模型训练好后，对于新输入的数据，都可以用transform方法来降维\n"
   ]
  },
  {
   "cell_type": "markdown",
   "metadata": {},
   "source": [
    "\n",
    "## 实例：利用PCA对半导体制造数据降维\n",
    "半导体是在一些极为先进的工厂中制造出来的。需要先进的制造设备和大量人工，如果在制造过程中存在瑕疵，需要尽早发现，否则会造成巨大损失。一些工程上解决方案是通过早期测试和频繁测试来发现有缺陷的产品，但仍然有一些存在瑕疵的产品通过了测试。如果机器学习技术能够用于进一步减少错误，那么它就会为制造商节省大量的资金。\n",
    "接下来我们考察上述任务中的数据集，它包含了590个特征，我们看看能否对这些特征进行降维处理。数据集下载地址http://archive.ics.uci.edu/ml/machine-learning-databases/secom/"
   ]
  },
  {
   "cell_type": "code",
   "execution_count": 7,
   "metadata": {
    "collapsed": true
   },
   "outputs": [],
   "source": [
    "import numpy as np\n",
    "from sklearn.decomposition import PCA"
   ]
  },
  {
   "cell_type": "code",
   "execution_count": 5,
   "metadata": {
    "collapsed": false
   },
   "outputs": [],
   "source": [
    "#载入数据集\n",
    "line_arr =[line.strip().split(' ') for line in open('secom.txt')]\n",
    "data_mat = np.mat(line_arr,dtype=float)"
   ]
  },
  {
   "cell_type": "code",
   "execution_count": 6,
   "metadata": {
    "collapsed": true
   },
   "outputs": [],
   "source": [
    "#缺失值(NaN)处理：用平均值替代\n",
    "for i in range(np.shape(data_mat)[1]):\n",
    "    # 计算非NaN的平均值\n",
    "    mean_val = np.mean((data_mat[np.nonzero(~np.isnan(data_mat[:,i].A))[0], i]))\n",
    "    data_mat[np.nonzero(np.isnan(data_mat[:,i].A))[0],i]= mean_val"
   ]
  },
  {
   "cell_type": "code",
   "execution_count": 46,
   "metadata": {
    "collapsed": false
   },
   "outputs": [
    {
     "data": {
      "text/plain": [
       "array([ 0.59254058,  0.24123819,  0.09150014])"
      ]
     },
     "execution_count": 46,
     "metadata": {},
     "output_type": "execute_result"
    }
   ],
   "source": [
    "# n_components设置主成分个数，可以多调试几次\n",
    "pca = PCA(n_components=3) \n",
    "pca.fit(data_mat)\n",
    "# 查看每个主成份的方差百分比\n",
    "pca.explained_variance_ratio_\n",
    "# 可以看出前三个前三个主成份包含了92.5%(上面三个值相加)的信息量"
   ]
  },
  {
   "cell_type": "code",
   "execution_count": 45,
   "metadata": {
    "collapsed": false
   },
   "outputs": [
    {
     "data": {
      "text/plain": [
       "array([[ -2.60049280e+03,  -3.82438175e+02,   7.40902860e-13],\n",
       "       [  1.92840040e+03,  -9.96221870e+02,   7.40902860e-13],\n",
       "       [  6.72092397e+02,   1.37866005e+03,   7.40902860e-13]])"
      ]
     },
     "execution_count": 45,
     "metadata": {},
     "output_type": "execute_result"
    }
   ],
   "source": [
    "# 测试集数据降维\n",
    "test = data_mat[:3, :]  # 取部分数据举例\n",
    "pca.fit_transform(test)"
   ]
  },
  {
   "cell_type": "code",
   "execution_count": null,
   "metadata": {
    "collapsed": true
   },
   "outputs": [],
   "source": []
  }
 ],
 "metadata": {
  "kernelspec": {
   "display_name": "Python 2",
   "language": "python",
   "name": "python2"
  },
  "language_info": {
   "codemirror_mode": {
    "name": "ipython",
    "version": 2
   },
   "file_extension": ".py",
   "mimetype": "text/x-python",
   "name": "python",
   "nbconvert_exporter": "python",
   "pygments_lexer": "ipython2",
   "version": "2.7.11"
  }
 },
 "nbformat": 4,
 "nbformat_minor": 0
}
